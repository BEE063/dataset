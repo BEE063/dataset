{
  "metadata": {
    "language_info": {
      "codemirror_mode": {
        "name": "python",
        "version": 3
      },
      "file_extension": ".py",
      "mimetype": "text/x-python",
      "name": "python",
      "nbconvert_exporter": "python",
      "pygments_lexer": "ipython3",
      "version": "3.8"
    },
    "kernelspec": {
      "name": "python",
      "display_name": "Python (Pyodide)",
      "language": "python"
    }
  },
  "nbformat_minor": 4,
  "nbformat": 4,
  "cells": [
    {
      "cell_type": "code",
      "source": "import pandas as pd\n\ncreditDataset = pd.read_csv('crx.data.csv', header=None)\n\nprint(creditDataset)",
      "metadata": {
        "trusted": true
      },
      "execution_count": 4,
      "outputs": [
        {
          "name": "stdout",
          "text": "    0      1       2  3  4   5   6     7  8  9   10 11 12     13   14 15\n0    b  30.83   0.000  u  g   w   v  1.25  t  t   1  f  g  00202    0  +\n1    a  58.67   4.460  u  g   q   h  3.04  t  t   6  f  g  00043  560  +\n2    a  24.50   0.500  u  g   q   h  1.50  t  f   0  f  g  00280  824  +\n3    b  27.83   1.540  u  g   w   v  3.75  t  t   5  t  g  00100    3  +\n4    b  20.17   5.625  u  g   w   v  1.71  t  f   0  f  s  00120    0  +\n..  ..    ...     ... .. ..  ..  ..   ... .. ..  .. .. ..    ...  ... ..\n685  b  21.08  10.085  y  p   e   h  1.25  f  f   0  f  g  00260    0  -\n686  a  22.67   0.750  u  g   c   v  2.00  f  t   2  t  g  00200  394  -\n687  a  25.25  13.500  y  p  ff  ff  2.00  f  t   1  t  g  00200    1  -\n688  b  17.92   0.205  u  g  aa   v  0.04  f  f   0  f  g  00280  750  -\n689  b  35.00   3.375  u  g   c   h  8.29  f  f   0  t  g  00000    0  -\n\n[690 rows x 16 columns]\n",
          "output_type": "stream"
        }
      ]
    },
    {
      "cell_type": "code",
      "source": "",
      "metadata": {},
      "execution_count": null,
      "outputs": []
    }
  ]
}