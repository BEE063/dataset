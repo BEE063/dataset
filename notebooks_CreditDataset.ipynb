{
  "metadata": {
    "language_info": {
      "codemirror_mode": {
        "name": "python",
        "version": 3
      },
      "file_extension": ".py",
      "mimetype": "text/x-python",
      "name": "python",
      "nbconvert_exporter": "python",
      "pygments_lexer": "ipython3",
      "version": "3.8"
    },
    "kernelspec": {
      "name": "python",
      "display_name": "Python (Pyodide)",
      "language": "python"
    }
  },
  "nbformat_minor": 4,
  "nbformat": 4,
  "cells": [
    {
      "cell_type": "code",
      "source": "import pandas as pd\nimport numpy as np\nimport matplotlib.pyplot as plt\n\ncreditDataset = pd.read_csv('crx.data.csv')\n\nprint(creditDataset)",
      "metadata": {
        "trusted": true
      },
      "execution_count": 9,
      "outputs": [
        {
          "name": "stdout",
          "text": "    Gender    Age    Debt Married BankCustomer EducationLevel Ethnicity  \\\n0        b  30.83   0.000       u            g              w         v   \n1        a  58.67   4.460       u            g              q         h   \n2        a   24.5   0.500       u            g              q         h   \n3        b  27.83   1.540       u            g              w         v   \n4        b  20.17   5.625       u            g              w         v   \n..     ...    ...     ...     ...          ...            ...       ...   \n685      b  21.08  10.085       y            p              e         h   \n686      a  22.67   0.750       u            g              c         v   \n687      a  25.25  13.500       y            p             ff        ff   \n688      b  17.92   0.205       u            g             aa         v   \n689      b     35   3.375       u            g              c         h   \n\n     YearsEmployed PriorDefault Employed  CreditScore DriversLicense Citizen  \\\n0             1.25            t        t            1              f       g   \n1             3.04            t        t            6              f       g   \n2             1.50            t        f            0              f       g   \n3             3.75            t        t            5              t       g   \n4             1.71            t        f            0              f       s   \n..             ...          ...      ...          ...            ...     ...   \n685           1.25            f        f            0              f       g   \n686           2.00            f        t            2              t       g   \n687           2.00            f        t            1              t       g   \n688           0.04            f        f            0              f       g   \n689           8.29            f        f            0              t       g   \n\n    ZipCode  Income ApprovalStatus  \n0       202       0              +  \n1        43     560              +  \n2       280     824              +  \n3       100       3              +  \n4       120       0              +  \n..      ...     ...            ...  \n685     260       0              -  \n686     200     394              -  \n687     200       1              -  \n688     280     750              -  \n689       0       0              -  \n\n[690 rows x 16 columns]\n",
          "output_type": "stream"
        }
      ]
    },
    {
      "cell_type": "code",
      "source": "creditDatasetDescription = creditDataset.describe()\nprint(creditDatasetDescription)\n",
      "metadata": {
        "trusted": true
      },
      "execution_count": 3,
      "outputs": [
        {
          "name": "stdout",
          "text": "             Debt  YearsEmployed  CreditScore         Income\ncount  690.000000     690.000000    690.00000     690.000000\nmean     4.758725       2.223406      2.40000    1017.385507\nstd      4.978163       3.346513      4.86294    5210.102598\nmin      0.000000       0.000000      0.00000       0.000000\n25%      1.000000       0.165000      0.00000       0.000000\n50%      2.750000       1.000000      0.00000       5.000000\n75%      7.207500       2.625000      3.00000     395.500000\nmax     28.000000      28.500000     67.00000  100000.000000\n",
          "output_type": "stream"
        }
      ]
    },
    {
      "cell_type": "code",
      "source": "",
      "metadata": {
        "trusted": true
      },
      "execution_count": null,
      "outputs": []
    },
    {
      "cell_type": "code",
      "source": "",
      "metadata": {},
      "execution_count": null,
      "outputs": []
    }
  ]
}